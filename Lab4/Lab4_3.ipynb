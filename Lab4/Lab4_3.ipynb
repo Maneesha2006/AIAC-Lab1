{
  "nbformat": 4,
  "nbformat_minor": 0,
  "metadata": {
    "colab": {
      "provenance": [],
      "toc_visible": true
    },
    "kernelspec": {
      "name": "python3",
      "display_name": "Python 3"
    },
    "language_info": {
      "name": "python"
    }
  },
  "cells": [
    {
      "cell_type": "code",
      "execution_count": null,
      "metadata": {
        "id": "VteUmRPPvUYc"
      },
      "outputs": [],
      "source": []
    },
    {
      "cell_type": "markdown",
      "source": [
        "Task Description#1\n",
        "●\tZero-shot: Prompt AI to write a function that checks whether a given year is a leap year.\n",
        "Expected Output#1\n",
        "●\tAI-generated function with no examples provided\n",
        "\n"
      ],
      "metadata": {
        "id": "JKyKTz1wxVfi"
      }
    },
    {
      "cell_type": "code",
      "source": [
        "def is_leap_year(year):\n",
        "  \"\"\"Checks if a given year is a leap year.\"\"\"\n",
        "  if (year % 4 == 0 and year % 100 != 0) or (year % 400 == 0):\n",
        "    return True\n",
        "  else:\n",
        "    return False\n",
        "\n",
        "# Example usage:\n",
        "year_to_check = 2024\n",
        "if is_leap_year(year_to_check):\n",
        "  print(f\"{year_to_check} is a leap year.\")\n",
        "else:\n",
        "  print(f\"{year_to_check} is not a leap year.\")\n",
        "\n",
        "year_to_check = 1900\n",
        "if is_leap_year(year_to_check):\n",
        "  print(f\"{year_to_check} is a leap year.\")\n",
        "else:\n",
        "  print(f\"{year_to_check} is not a leap year.\")\n",
        "\n",
        "year_to_check = 2000\n",
        "if is_leap_year(year_to_check):\n",
        "  print(f\"{year_to_check} is a leap year.\")\n",
        "else:\n",
        "  print(f\"{year_to_check} is a leap year.\")"
      ],
      "metadata": {
        "colab": {
          "base_uri": "https://localhost:8080/"
        },
        "id": "Q40m8FtexoHC",
        "outputId": "43a92bed-a9dc-4085-8a7c-532dd38080d4"
      },
      "execution_count": 3,
      "outputs": [
        {
          "output_type": "stream",
          "name": "stdout",
          "text": [
            "2024 is a leap year.\n",
            "1900 is not a leap year.\n",
            "2000 is a leap year.\n"
          ]
        }
      ]
    },
    {
      "cell_type": "markdown",
      "source": [
        "Task Description#2\n",
        "●\tOne-shot: Give one input-output example to guide AI in writing a function that converts centimeters to inches.\n",
        "Expected Output#2\n",
        "●\tFunction with correct conversion logic\n",
        "\n"
      ],
      "metadata": {
        "id": "jbgkZ1aRx3L6"
      }
    },
    {
      "cell_type": "code",
      "source": [
        "def cm_to_inches(cm):\n",
        "  \"\"\"Converts centimeters to inches.\"\"\"\n",
        "  inches = cm * 0.393701\n",
        "  return inches\n",
        "\n",
        "# Example usage:\n",
        "centimeters = 10\n",
        "inches = cm_to_inches(centimeters)\n",
        "print(f\"{centimeters} cm = {inches:.2f} inches\")"
      ],
      "metadata": {
        "colab": {
          "base_uri": "https://localhost:8080/"
        },
        "id": "sbv-7vTEyScD",
        "outputId": "74efe28a-4fac-443b-e575-66670572b46f"
      },
      "execution_count": 4,
      "outputs": [
        {
          "output_type": "stream",
          "name": "stdout",
          "text": [
            "10 cm = 3.94 inches\n"
          ]
        }
      ]
    },
    {
      "cell_type": "markdown",
      "source": [
        "Task Description#3\n",
        "●\tFew-shot: Provide 2–3 examples to generate a function that formats full names as “Last, First”.\n",
        "Expected Output#3\n",
        "●\tWell-structured function respecting the examples\n",
        "\n"
      ],
      "metadata": {
        "id": "6RIbZaLFy00H"
      }
    },
    {
      "cell_type": "code",
      "source": [
        "def swap_names(full_name):\n",
        "  \"\"\"Swaps the first and last names in a full name.\"\"\"\n",
        "  names = full_name.split()\n",
        "  if len(names) >= 2:\n",
        "    swapped_name = f\"{names[-1]} {' '.join(names[:-1])}\"\n",
        "    return swapped_name\n",
        "  else:\n",
        "    return full_name # Return the original name if there's only one word or less\n",
        "\n",
        "# Get dynamic input from the user\n",
        "user_full_name = input(\"Enter the full name: \")\n",
        "\n",
        "# Example usage with dynamic input:\n",
        "swapped_name_output = swap_names(user_full_name)\n",
        "print(f\"Swapped name: {swapped_name_output}\")"
      ],
      "metadata": {
        "colab": {
          "base_uri": "https://localhost:8080/"
        },
        "id": "JRTp85SozEoY",
        "outputId": "6bc61c10-ddee-4439-cf1b-722a747f39fd"
      },
      "execution_count": 5,
      "outputs": [
        {
          "output_type": "stream",
          "name": "stdout",
          "text": [
            "Enter the full name: Maneesha Rallabandi\n",
            "Swapped name: Rallabandi Maneesha\n"
          ]
        }
      ]
    },
    {
      "cell_type": "markdown",
      "source": [
        "Task Description#4\n",
        "●\tCompare zero-shot and few-shot prompts for writing a function that counts the number of vowels in a string.\n",
        "Expected Output#4\n",
        "●\tFunctional output and comparative reflection\n",
        "\n"
      ],
      "metadata": {
        "id": "Dahkl6YOzWI-"
      }
    },
    {
      "cell_type": "code",
      "source": [
        "def count_vowels(text):\n",
        "  \"\"\"Counts the number of vowels in a given string.\"\"\"\n",
        "  vowels = \"aeiouAEIOU\"\n",
        "  vowel_count = 0\n",
        "  for char in text:\n",
        "    if char in vowels:\n",
        "      vowel_count += 1\n",
        "  return vowel_count\n",
        "\n",
        "# Get dynamic input from the user\n",
        "user_string = input(\"Enter a string: \")\n",
        "\n",
        "# Example usage with dynamic input:\n",
        "num_vowels = count_vowels(user_string)\n",
        "print(f\"The number of vowels in the string is: {num_vowels}\")"
      ],
      "metadata": {
        "colab": {
          "base_uri": "https://localhost:8080/"
        },
        "id": "fbfjup1DzkI5",
        "outputId": "3a247417-400d-492d-a36b-f7a9a0544da1"
      },
      "execution_count": 6,
      "outputs": [
        {
          "output_type": "stream",
          "name": "stdout",
          "text": [
            "Enter a string: apple\n",
            "The number of vowels in the string is: 2\n"
          ]
        }
      ]
    },
    {
      "cell_type": "markdown",
      "source": [
        "Task Description#4\n",
        "●\tCompare zero-shot and few-shot prompts for writing a function that counts the number of vowels in a string.\n",
        "Expected Output#4\n",
        "●\tFunctional output and comparative reflection\n"
      ],
      "metadata": {
        "id": "VNeFa4G2z2g3"
      }
    },
    {
      "cell_type": "code",
      "source": [
        "def count_vowels(text):\n",
        "  \"\"\"Counts the number of vowels in a given string.\"\"\"\n",
        "  vowels = \"aeiouAEIOU\"\n",
        "  vowel_count = 0\n",
        "  for char in text:\n",
        "    if char in vowels:\n",
        "      vowel_count += 1\n",
        "  return vowel_count\n",
        "\n",
        "# Get dynamic input from the user\n",
        "user_string = input(\"Enter a string: \")\n",
        "\n",
        "# Example usage with dynamic input:\n",
        "num_vowels = count_vowels(user_string)\n",
        "print(f\"The number of vowels in the string is: {num_vowels}\")"
      ],
      "metadata": {
        "colab": {
          "base_uri": "https://localhost:8080/"
        },
        "id": "Xram5JMq0B25",
        "outputId": "c0434568-b703-4e65-e9e8-b03aa635b932"
      },
      "execution_count": 7,
      "outputs": [
        {
          "output_type": "stream",
          "name": "stdout",
          "text": [
            "Enter a string: apple\n",
            "The number of vowels in the string is: 2\n"
          ]
        }
      ]
    },
    {
      "cell_type": "markdown",
      "source": [],
      "metadata": {
        "id": "WPJDZVq10xYE"
      }
    },
    {
      "cell_type": "markdown",
      "source": [
        "Task Description#5\n",
        "●\tUse few-shot prompting to generate a function that reads a .txt file and returns the number of lines.\n",
        "Expected Output#5\n",
        "          Working file-processing function with AI-guided logic\n",
        "\n"
      ],
      "metadata": {
        "id": "IeEuLAjp00DO"
      }
    },
    {
      "cell_type": "code",
      "source": [
        "def count_lines_in_file(filename):\n",
        "  \"\"\"Reads a text file and returns the number of lines.\"\"\"\n",
        "  try:\n",
        "    with open(filename, 'r') as f:\n",
        "      lines = f.readlines()\n",
        "      return len(lines)\n",
        "  except FileNotFoundError:\n",
        "    return f\"Error: The file '{filename}' was not found.\"\n",
        "\n",
        "# Example usage:\n",
        "file_name = \"lab4.txt\"\n",
        "line_count = count_lines_in_file(file_name)\n",
        "print(f\"The number of lines in '{file_name}' is: {line_count}\")"
      ],
      "metadata": {
        "colab": {
          "base_uri": "https://localhost:8080/"
        },
        "id": "qB78IfJt2USO",
        "outputId": "616bb561-e0c1-422b-b459-fce849d33840"
      },
      "execution_count": 10,
      "outputs": [
        {
          "output_type": "stream",
          "name": "stdout",
          "text": [
            "The number of lines in 'lab4.txt' is: 12\n"
          ]
        }
      ]
    }
  ]
}