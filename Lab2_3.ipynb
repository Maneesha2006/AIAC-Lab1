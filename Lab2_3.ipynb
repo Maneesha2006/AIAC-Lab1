{
  "nbformat": 4,
  "nbformat_minor": 0,
  "metadata": {
    "colab": {
      "provenance": [],
      "authorship_tag": "ABX9TyPq7aPu3hUWdf8Cnc2SiNX/",
      "include_colab_link": true
    },
    "kernelspec": {
      "name": "python3",
      "display_name": "Python 3"
    },
    "language_info": {
      "name": "python"
    }
  },
  "cells": [
    {
      "cell_type": "markdown",
      "metadata": {
        "id": "view-in-github",
        "colab_type": "text"
      },
      "source": [
        "<a href=\"https://colab.research.google.com/github/Maneesha2006/AIAC-Lab1/blob/main/Lab2_3.ipynb\" target=\"_parent\"><img src=\"https://colab.research.google.com/assets/colab-badge.svg\" alt=\"Open In Colab\"/></a>"
      ]
    },
    {
      "cell_type": "markdown",
      "source": [
        "● Use Google Gemini in Colab to write a function that reads a CSV file and calculates\n",
        "mean, min, max.\n",
        "Expected Output#1\n",
        "● Functional code with output and screenshot"
      ],
      "metadata": {
        "id": "a5Dp1BjwcjGm"
      }
    },
    {
      "cell_type": "code",
      "source": [
        "import pandas as pd\n",
        "\n",
        "def calculate_stats_from_csv(file_path, column_name):\n",
        "\n",
        "  try:\n",
        "    df = pd.read_csv(file_path)\n",
        "\n",
        "    if column_name not in df.columns:\n",
        "      print(f\"Error: Column '{column_name}' not found in the CSV.\")\n",
        "      return None, None, None\n",
        "\n",
        "    # Ensure the column is numeric, coercing errors\n",
        "    numeric_column = pd.to_numeric(df[column_name], errors='coerce')\n",
        "\n",
        "    # Drop rows where coercion failed (NaN values)\n",
        "    numeric_column = numeric_column.dropna()\n",
        "\n",
        "    if numeric_column.empty:\n",
        "        print(f\"Error: Column '{column_name}' contains no valid numeric data after cleaning.\")\n",
        "        return None, None, None\n",
        "\n",
        "    mean_val = numeric_column.mean()\n",
        "    min_val = numeric_column.min()\n",
        "    max_val = numeric_column.max()\n",
        "\n",
        "    return mean_val, min_val, max_val\n",
        "\n",
        "  except FileNotFoundError:\n",
        "    print(f\"Error: File not found at '{file_path}'\")\n",
        "    return None, None, None\n",
        "  except Exception as e:\n",
        "    print(f\"An error occurred: {e}\")\n",
        "    return None, None, None\n",
        "\n",
        "\n",
        "\n",
        "dummy_csv_path = '/content/Extension.csv'\n",
        "\n",
        "# Calculate statistics for 'col1'\n",
        "mean_Num, min_Num, max_Num = calculate_stats_from_csv(dummy_csv_path, 'Num')\n",
        "\n",
        "if mean_Num is not None:\n",
        "  print(f\"Statistics for Num':\")\n",
        "  print(f\"  Mean: {mean_Num}\")\n",
        "  print(f\"  Min: {min_Num}\")\n",
        "  print(f\"  Max: {max_Num}\")\n",
        "\n",
        "\n",
        "\n"
      ],
      "metadata": {
        "colab": {
          "base_uri": "https://localhost:8080/"
        },
        "id": "oNmIsDSkhY9n",
        "outputId": "0b2a836f-ff2d-4bac-e9bb-454bf0213d68"
      },
      "execution_count": 6,
      "outputs": [
        {
          "output_type": "stream",
          "name": "stdout",
          "text": [
            "Statistics for Num':\n",
            "  Mean: 31.75\n",
            "  Min: 19\n",
            "  Max: 45\n"
          ]
        }
      ]
    },
    {
      "cell_type": "markdown",
      "source": [
        "\n"
      ],
      "metadata": {
        "id": "fm9r1nL9kwvi"
      }
    },
    {
      "cell_type": "code",
      "source": [
        "def is_palindrome(input_string):\n",
        "  \"\"\"\n",
        "  Checks if a given string is a palindrome.\n",
        "\n",
        "  Args:\n",
        "    input_string (str): The string to check.\n",
        "\n",
        "  Returns:\n",
        "    bool: True if the string is a palindrome, False otherwise.\n",
        "  \"\"\"\n",
        "  # Remove spaces and convert to lowercase for case-insensitive check\n",
        "  cleaned_string = input_string.replace(\" \", \"\").lower()\n",
        "  return cleaned_string == cleaned_string[::-1]\n",
        "\n",
        "# Example Usage:\n",
        "user_input = input(\"Enter a string to check if it's a palindrome: \")\n",
        "\n",
        "if is_palindrome(user_input):\n",
        "  print(f\"'{user_input}' is a palindrome.\")\n",
        "else:\n",
        "  print(f\"'{user_input}' is not a palindrome.\")"
      ],
      "metadata": {
        "colab": {
          "base_uri": "https://localhost:8080/"
        },
        "id": "wjyQrprHo8uU",
        "outputId": "efa4fab5-b239-4cda-c0b5-54b5988fe124"
      },
      "execution_count": 7,
      "outputs": [
        {
          "output_type": "stream",
          "name": "stdout",
          "text": [
            "Enter a string to check if it's a palindrome: 121\n",
            "'121' is a palindrome.\n"
          ]
        }
      ]
    },
    {
      "cell_type": "markdown",
      "source": [
        "Task Description#2\n",
        "● Compare Gemini and Copilot outputs for a palindrome check function.\n",
        "Expected Output#2\n",
        "● Side-by-side comparison and observations"
      ],
      "metadata": {
        "id": "pVxZPTmpo10H"
      }
    },
    {
      "cell_type": "markdown",
      "source": [
        "Task Description#3\n",
        "● Ask Gemini to explain a Python function (to calculate area of various shapes) line by\n",
        "line..\n",
        "Expected Output#3\n",
        "● Detailed explanation with code snippet"
      ],
      "metadata": {
        "id": "mF9TCxgPqa0R"
      }
    },
    {
      "cell_type": "code",
      "source": [
        "import math\n",
        "\n",
        "def calculate_area(shape, **kwargs):\n",
        "\n",
        "  area = None\n",
        "  if shape.lower() == 'circle':\n",
        "    radius = kwargs.get('radius')\n",
        "    if radius is not None and radius >= 0:\n",
        "      area = math.pi * radius**2\n",
        "      print(f\"The area of the circle with radius {radius} is: {area}\")\n",
        "    else:\n",
        "      print(\"Error: Please provide a non-negative 'radius' for the circle.\")\n",
        "  elif shape.lower() == 'square':\n",
        "    side = kwargs.get('side')\n",
        "    if side is not None and side >= 0:\n",
        "      area = side**2\n",
        "      print(f\"The area of the square with side {side} is: {area}\")\n",
        "    else:\n",
        "      print(\"Error: Please provide a non-negative 'side' for the square.\")\n",
        "  elif shape.lower() == 'rectangle':\n",
        "    length = kwargs.get('length')\n",
        "    width = kwargs.get('width')\n",
        "    if length is not None and width is not None and length >= 0 and width >= 0:\n",
        "      area = length * width\n",
        "      print(f\"The area of the rectangle with length {length} and width {width} is: {area}\")\n",
        "    else:\n",
        "      print(\"Error: Please provide non-negative 'length' and 'width' for the rectangle.\")\n",
        "  elif shape.lower() == 'triangle':\n",
        "    base = kwargs.get('base')\n",
        "    height = kwargs.get('height')\n",
        "    if base is not None and height is not None and base >= 0 and height >= 0:\n",
        "      area = 0.5 * base * height\n",
        "      print(f\"The area of the triangle with base {base} and height {height} is: {area}\")\n",
        "    else:\n",
        "      print(\"Error: Please provide non-negative 'base' and 'height' for the triangle.\")\n",
        "  else:\n",
        "    print(f\"Error: Shape '{shape}' is not supported.\")\n",
        "\n",
        "# Example Usage:\n",
        "# Calculate area of a circle with radius 5\n",
        "calculate_area('circle', radius=5)\n",
        "\n",
        "# Calculate area of a square with side 4\n",
        "calculate_area('square', side=4)\n",
        "\n",
        "# Calculate area of a rectangle with length 6 and width 8\n",
        "calculate_area('rectangle', length=6, width=8)\n",
        "\n",
        "# Calculate area of a triangle with base 10 and height 5\n",
        "calculate_area('triangle', base=10, height=5)\n",
        "\n",
        "# Attempt to calculate area of an unsupported shape\n",
        "calculate_area('hexagon', side=6)\n",
        "\n",
        "# Attempt to calculate area of a circle with missing radius\n",
        "calculate_area('circle')\n",
        "\n",
        "# Attempt to calculate area of a square with negative side\n",
        "calculate_area('square', side=-4)"
      ],
      "metadata": {
        "colab": {
          "base_uri": "https://localhost:8080/"
        },
        "id": "bcdkUBV3Zo_E",
        "outputId": "6e601702-6b6c-4161-fcf2-76927e044dd0"
      },
      "execution_count": 1,
      "outputs": [
        {
          "output_type": "stream",
          "name": "stdout",
          "text": [
            "The area of the circle with radius 5 is: 78.53981633974483\n",
            "The area of the square with side 4 is: 16\n",
            "The area of the rectangle with length 6 and width 8 is: 48\n",
            "The area of the triangle with base 10 and height 5 is: 25.0\n",
            "Error: Shape 'hexagon' is not supported.\n",
            "Error: Please provide a non-negative 'radius' for the circle.\n",
            "Error: Please provide a non-negative 'side' for the square.\n"
          ]
        }
      ]
    },
    {
      "cell_type": "markdown",
      "source": [],
      "metadata": {
        "id": "IKm6GtFeG0Lh"
      }
    },
    {
      "cell_type": "markdown",
      "source": [
        "Task Description#4\n",
        "● Install and configure Cursor AI. Use it to generate a Python function (e.g., sum of\n",
        "squares).\n",
        "Expected Output#4\n",
        "● Screenshots of working environments with few prompts to generate python cod"
      ],
      "metadata": {
        "id": "H4VOHW0hG17x"
      }
    },
    {
      "cell_type": "markdown",
      "source": [],
      "metadata": {
        "id": "iSZDHoagG_WK"
      }
    },
    {
      "cell_type": "code",
      "source": [],
      "metadata": {
        "id": "GQ_ISlwEG_sB"
      },
      "execution_count": null,
      "outputs": []
    },
    {
      "cell_type": "markdown",
      "source": [
        "Task Description#5\n",
        "● Student need to write code to calculate sum of add number and even numbers in the\n",
        "list\n",
        "Expected Output#5\n",
        "● Refactored code written by student with improved logic"
      ],
      "metadata": {
        "id": "MMATExJtHYLA"
      }
    },
    {
      "cell_type": "code",
      "source": [
        "def sum_even_odd(numbers):\n",
        "\n",
        "  sum_even = 0\n",
        "  sum_odd = 0\n",
        "  for number in numbers:\n",
        "    if isinstance(number, (int, float)): # Check if the element is a number\n",
        "      if number % 2 == 0:\n",
        "        sum_even += number\n",
        "      else:\n",
        "        sum_odd += number\n",
        "    else:\n",
        "      print(f\"Warning: Skipping non-numeric value '{number}' in the list.\")\n",
        "  return sum_even, sum_odd\n",
        "\n",
        "# Example Usage:\n",
        "my_list = [1, 2, 3, 4, 5, 6, 7, 8, 9, 10, 'a', 12.5]\n",
        "even_sum, odd_sum = sum_even_odd(my_list)\n",
        "\n",
        "print(f\"Original list: {my_list}\")\n",
        "print(f\"Sum of even numbers: {even_sum}\")\n",
        "print(f\"Sum of odd numbers: {odd_sum}\")\n",
        "\n",
        "# Example with another list\n",
        "another_list = [22, 33, 44, 55, 66]\n",
        "even_sum_2, odd_sum_2 = sum_even_odd(another_list)\n",
        "\n",
        "print(f\"\\nOriginal list: {another_list}\")\n",
        "print(f\"Sum of even numbers: {even_sum_2}\")\n",
        "print(f\"Sum of odd numbers: {odd_sum_2}\")"
      ],
      "metadata": {
        "colab": {
          "base_uri": "https://localhost:8080/"
        },
        "id": "s6KM85KrHZWC",
        "outputId": "de5da6c7-c337-4f4e-ae6b-e7e185a17e1c"
      },
      "execution_count": 2,
      "outputs": [
        {
          "output_type": "stream",
          "name": "stdout",
          "text": [
            "Warning: Skipping non-numeric value 'a' in the list.\n",
            "Original list: [1, 2, 3, 4, 5, 6, 7, 8, 9, 10, 'a', 12.5]\n",
            "Sum of even numbers: 30\n",
            "Sum of odd numbers: 37.5\n",
            "\n",
            "Original list: [22, 33, 44, 55, 66]\n",
            "Sum of even numbers: 132\n",
            "Sum of odd numbers: 88\n"
          ]
        }
      ]
    }
  ]
}